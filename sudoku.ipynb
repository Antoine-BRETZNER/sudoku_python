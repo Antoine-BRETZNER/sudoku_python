{
 "cells": [
  {
   "cell_type": "markdown",
   "metadata": {},
   "source": [
    "# Sudoku recognition & solver"
   ]
  },
  {
   "cell_type": "markdown",
   "metadata": {},
   "source": [
    "## Adapt dataset\n",
    "\n",
    "sudoku images & dat files found on kaggle ([source](https://www.kaggle.com/datasets/mexwell/sudoku-image-dataset))\n",
    "\n",
    "we have dataset but with an arborescence like this :\n",
    "```sh\n",
    "├── mixed\n",
    "│   └── mixed\n",
    "├── mixed 2\n",
    "│   └── mixed 2\n",
    "├── v1_test\n",
    "│   └── v1_test\n",
    "├── v1_training\n",
    "│   └── v1_training\n",
    "├── v2_test\n",
    "│   └── v2_test\n",
    "└── v2_train\n",
    "    └── v2_train\n",
    "```\n",
    "\n",
    "With YOLOv8, we need to have a dataset like this :\n",
    "\n",
    "([https://www.kaggle.com/datasets/meeratif/yolo-format-data](https://www.kaggle.com/datasets/meeratif/yolo-format-data))\n",
    "\n",
    "```sh\n",
    "dataset\n",
    "├── images\n",
    "│   ├── train\n",
    "│   │   ├── sudoku_1.jpg\n",
    "│   │   └── sudoku_2.jpg\n",
    "│   └── val\n",
    "│       ├── sudoku_3.jpg\n",
    "│       └── sudoku_4.jpg\n",
    "└── labels\n",
    "    ├── train\n",
    "    │   ├── sudoku_1.txt\n",
    "    │   └── sudoku_2.txt\n",
    "    └── val\n",
    "        ├── sudoku_3.txt\n",
    "        └── sudoku_4.txt\n",
    "```"
   ]
  },
  {
   "cell_type": "markdown",
   "metadata": {},
   "source": [
    "on dévellope un script pour adapter les fichiers d'annotations en quelque chose de viable pour YOLOv8 :\n",
    "\n",
    "```sh\n",
    "<class_id> <x_center> <y_center> <width> <height>\n",
    "```"
   ]
  },
  {
   "cell_type": "code",
   "execution_count": 1,
   "metadata": {},
   "outputs": [],
   "source": [
    "import os"
   ]
  },
  {
   "cell_type": "code",
   "execution_count": 2,
   "metadata": {},
   "outputs": [],
   "source": [
    "def dat_to_yolo(dat_path, output_txt_path):\n",
    "    \"\"\"\n",
    "    Convertit un fichier .dat de Sudoku en un fichier .txt au format YOLO.\n",
    "    Args:\n",
    "        dat_path (str): Chemin vers le fichier .dat.\n",
    "        output_txt_path (str): Chemin de sortie pour le fichier YOLO .txt.\n",
    "    \"\"\"\n",
    "    with open(dat_path, 'r') as file:\n",
    "        lines = file.readlines()\n",
    "\n",
    "    # Extraire les dimensions de l'image\n",
    "    width, height = 0, 0\n",
    "    for line in lines:\n",
    "        if 'JPG' in line:\n",
    "            resolution = line.split()[0]  # Extrait \"640x480:24\"\n",
    "            resolution = resolution.split(':')[0]  # Supprime \":24\"\n",
    "            width, height = map(int, resolution.split('x'))\n",
    "            break\n",
    "\n",
    "    # Extraire la grille\n",
    "    grid = []\n",
    "    for line in lines:\n",
    "        # Vérifiez si la ligne contient uniquement des chiffres (grille Sudoku)\n",
    "        if line.strip() and all(char.isdigit() or char.isspace() for char in line):\n",
    "            grid.append([int(x) for x in line.split()])\n",
    "\n",
    "    # Dimensions des cellules dans la grille\n",
    "    cell_width = 1 / 9  # Chaque cellule est 1/9 de la largeur\n",
    "    cell_height = 1 / 9  # Chaque cellule est 1/9 de la hauteur\n",
    "\n",
    "    # Conversion de la grille en annotations YOLO\n",
    "    with open(output_txt_path, 'w') as output_file:\n",
    "        for row_idx, row in enumerate(grid):\n",
    "            for col_idx, value in enumerate(row):\n",
    "                if value == 0:  # Ignorer les cases vides\n",
    "                    continue\n",
    "                x_center = (col_idx + 0.5) * cell_width\n",
    "                y_center = (row_idx + 0.5) * cell_height\n",
    "                width = cell_width\n",
    "                height = cell_height\n",
    "                class_index = value - 1  # Classes YOLO : 0 pour \"1\", 1 pour \"2\", etc.\n",
    "                output_file.write(f\"{class_index} {x_center:.6f} {y_center:.6f} {width:.6f} {height:.6f}\\n\")\n"
   ]
  },
  {
   "cell_type": "markdown",
   "metadata": {},
   "source": [
    "# Antoinnnneee pas besoin de re run ça jlai déjà fait check le /dataset"
   ]
  },
  {
   "cell_type": "code",
   "execution_count": null,
   "metadata": {},
   "outputs": [],
   "source": [
    "train_source = 'archive/v1_training/v1_training/'\n",
    "\n",
    "files = os.listdir(train_source)\n",
    "for file in files:\n",
    "    if file.endswith('.dat'):\n",
    "        dat_path = os.path.join(train_source, file)\n",
    "        output_txt_path = os.path.join(\"dataset/labels/train/\", file.replace('.dat', '.txt'))\n",
    "        dat_to_yolo(dat_path, output_txt_path)\n",
    "    if file.endswith('.jpg'):\n",
    "        os.system(f\"cp {train_source}{file} dataset/images/train/\")\n",
    "        \n",
    "test_source = 'archive/v1_test/v1_test/'\n",
    "\n",
    "files = os.listdir(test_source)\n",
    "for file in files:\n",
    "    if file.endswith('.dat'):\n",
    "        dat_path = os.path.join(test_source, file)\n",
    "        output_txt_path = os.path.join(\"dataset/labels/val/\", file.replace('.dat', '.txt'))\n",
    "        dat_to_yolo(dat_path, output_txt_path)\n",
    "    if file.endswith('.jpg'):\n",
    "        os.system(f\"cp {test_source}{file} dataset/images/val/\")"
   ]
  }
 ],
 "metadata": {
  "kernelspec": {
   "display_name": "sudoku_env",
   "language": "python",
   "name": "python3"
  },
  "language_info": {
   "codemirror_mode": {
    "name": "ipython",
    "version": 3
   },
   "file_extension": ".py",
   "mimetype": "text/x-python",
   "name": "python",
   "nbconvert_exporter": "python",
   "pygments_lexer": "ipython3",
   "version": "3.12.3"
  }
 },
 "nbformat": 4,
 "nbformat_minor": 2
}
